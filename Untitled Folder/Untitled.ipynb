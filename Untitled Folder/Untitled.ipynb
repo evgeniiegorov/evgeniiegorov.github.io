{
 "cells": [
  {
   "cell_type": "markdown",
   "metadata": {},
   "source": [
    "MCMC for West Cost, Variational Bayes for East Cost. So, I prefer to use the variational approach in my research over sampling. In some machine learning courses and books (as Bishop \"Pattern Recognition\") it looks like number of algebraic tricks. I wonder, where does real VARIATIONAL, as we know it from real analysis, hide in all it? Also, I found this way more forward and clear for me."
   ]
  },
  {
   "cell_type": "markdown",
   "metadata": {},
   "source": [
    "Consider\n",
    "\n",
    "+ $X$ as observed data\n",
    "+ $Z$ latent variables\n",
    "+ $\\theta$ other parameters \n",
    "\n",
    "Our model:\n",
    "\n",
    "$$\n",
    "p(X, Z, \\theta) = p(X|Z)p(Z|\\theta)p(\\theta)\n",
    "$$\n",
    "\n",
    "Our far goal:\n",
    "\n",
    "$$\n",
    "p(Z,\\theta|X) = \\dfrac{p(X, Z, \\theta)}{\\int p(X, Z, \\theta) dZd\\theta}\n",
    "$$\n"
   ]
  },
  {
   "cell_type": "markdown",
   "metadata": {},
   "source": [
    "Most hard part is to deal with $\\int p(X, Z, \\theta) dZd\\theta = p(X)$. Let's optimise its lower bound."
   ]
  },
  {
   "cell_type": "markdown",
   "metadata": {},
   "source": [
    "# Exact solution"
   ]
  },
  {
   "cell_type": "markdown",
   "metadata": {},
   "source": [
    "$$\n",
    "\\ln p(X) = \\ln \\int p(X, Z, \\theta) dZd\\theta = \\ln \\int q(X, Z)p(X, Z, \\theta)\\dfrac{1}{q(X, Z)} dZd\\theta = \\\\\n",
    "= \\ln\\left(\\mathbb{E}_{q(X,Z)}\\dfrac{ p(X, Z, \\theta)}{q(X, Z)}\\right)\\geq \\{\\text{Concave of log}\\} \\geq \\mathbb{E}_{q(X,Z)}\\ln\\dfrac{ p(X, Z, \\theta)}{q(X, Z)} = \\\\\n",
    "= \\mathbb{E}_q \\ln p(X,Z|\\theta) + \\mathbb{E}_q \\ln p(\\theta) - \\mathbb{E}_q\\ln q(Z, \\theta)\n",
    "$$\n",
    "\n",
    "Consider $\\mathcal{F}(q) = \\mathbb{E}_q \\ln p(X,Z|\\theta) + \\mathbb{E}_q \\ln p(\\theta) - \\mathbb{E}_q\\ln q(Z, \\theta)$.\n",
    "\n",
    "Than we obtain optimization problem with constraints:\n",
    "\n",
    "$$\n",
    "\\max\\mathcal{L}(q,\\lambda) = \\mathcal{F}(q) + \\lambda\\left(\\int q(Z,\\theta)dZd\\theta - 1 \\right) = \\\\\n",
    "= \\mathbb{E}_q \\ln p(X,Z|\\theta) + \\mathbb{E}_q \\ln p(\\theta) - \\mathbb{E}_q\\ln q(Z, \\theta) + \\lambda\\left(\\int q(Z,\\theta)dZd\\theta - 1 \\right)\n",
    "$$"
   ]
  },
  {
   "cell_type": "markdown",
   "metadata": {},
   "source": [
    "FOC:\n",
    "\n",
    "$$\n",
    "\\dfrac{\\delta}{\\delta q}\\mathcal{L}(q,\\lambda) = \\dfrac{\\delta}{\\delta q}\\mathcal{F}(q)+\\lambda = \\ln p(X,Z,\\theta)  - \\left(\\ln q(Z,\\theta) + 1\\right) + \\lambda = 0\n",
    "$$\n",
    "\n",
    "\n",
    "$$\n",
    "\\dfrac{\\partial}{\\partial \\lambda}\\mathcal{L}(q,\\lambda) = \\int q(Z,\\theta)dZd\\theta - 1 = 0\n",
    "$$\n"
   ]
  },
  {
   "cell_type": "markdown",
   "metadata": {},
   "source": [
    "From first condition:\n",
    "    \n",
    "$$\n",
    "\\ln p(X,Z,\\theta) = \\ln q(Z,\\theta) + 1 - \\lambda \\\\\n",
    "q(Z,\\theta) = p(X,Z,\\theta)\\exp(\\lambda - 1) \\\\\n",
    "$$\n",
    "\n",
    "Then from second condition:\n",
    "\n",
    "$$\n",
    "\\exp(\\lambda - 1)\\int p(X,Z,\\theta) dZd\\theta = 1 \\\\\n",
    "\\lambda = -\\ln \\int p(X,Z,\\theta)dZd\\theta + 1\n",
    "$$\n",
    "\n",
    "Finally:\n",
    "\n",
    "$$\n",
    "q(Z,\\theta) = \\dfrac{p(X,Z,\\theta)}{\\int p(X, Z,\\theta)dZd\\theta}\n",
    "$$"
   ]
  },
  {
   "cell_type": "markdown",
   "metadata": {},
   "source": [
    "We end up with exact solution. Now we will follow same pipeline, but use mean field approximation."
   ]
  },
  {
   "cell_type": "markdown",
   "metadata": {},
   "source": [
    "# Mean field approximation"
   ]
  },
  {
   "cell_type": "markdown",
   "metadata": {},
   "source": [
    "Sometimes (be honest, almost surely) we can’t compute, $\\int p(X, Z,\\theta)dZd\\theta$ directly. Then we have restrict to set of functions. Thus, we condiser $q(Z,\\theta) = q_z(Z)q_{\\theta}(\\theta)$.\n",
    "\n",
    "Then:\n",
    "\n",
    "$$\n",
    "\\mathcal{F}(q) = \\mathbb{E}_q \\ln p(X,Z|\\theta) + \\mathbb{E}_q \\ln p(\\theta) - \\mathbb{E}_q\\ln q(Z, \\theta) = \\\\\n",
    "= \\mathbb{E}_q \\ln p(X,Z|\\theta) + \\mathbb{E}_{q_{\\theta}} \\ln p(\\theta) - \\mathbb{E}_{q_{\\theta}}\\ln q_{\\theta}\n",
    "(\\theta) - \\mathbb{E}_{q_{z}} \\ln q_{z}(Z)\n",
    "$$\n",
    "\n",
    "As earlier FOC:\n"
   ]
  },
  {
   "cell_type": "markdown",
   "metadata": {},
   "source": [
    "$$\n",
    "\\dfrac{\\delta}{\\delta q_{\\theta}}\\mathcal{L} = \\mathbb{E}_{q_{z}}\n",
    "\\ln p(X,Z|\\theta) + \\ln p(\\theta) - (\\ln q_{\\theta}(\\theta)+1) + \\lambda_{\\theta} = 0 \n",
    "$$"
   ]
  },
  {
   "cell_type": "markdown",
   "metadata": {},
   "source": [
    "$$\n",
    "\\dfrac{\\delta}{\\delta q_{z}}\\mathcal{L} = \\mathbb{E}_{q_{\\theta}}\n",
    "\\ln p(X,Z|\\theta) - (\\ln q_{z}(Z)+1) + \\lambda_z = 0 \n",
    "$$"
   ]
  },
  {
   "cell_type": "markdown",
   "metadata": {},
   "source": [
    "$$\n",
    "\\dfrac{\\partial}{\\partial \\lambda_{\\theta}}\\mathcal{L} = \\int q_{\\theta}(\\theta)d\\theta - 1 = 0\n",
    "$$\n",
    "\n",
    "$$\n",
    "\\dfrac{\\partial}{\\partial \\lambda_{z}}\\mathcal{L} = \\int q_{z}(Z)dZ - 1 = 0\n",
    "$$"
   ]
  },
  {
   "cell_type": "markdown",
   "metadata": {},
   "source": [
    "Then, for $q_\\theta$:"
   ]
  },
  {
   "cell_type": "markdown",
   "metadata": {},
   "source": [
    "$$\n",
    "q_{\\theta}(\\theta) = p(\\theta)\\exp(\\mathbb{E}_{q_{z}}\\ln p(X,Z|\\theta)-1+\\lambda_{\\theta})\n",
    "$$\n",
    "\n",
    "$$\n",
    "\\lambda_{\\theta} = 1 - \\ln\\int p(\\theta)\\exp(\\mathbb{E}_{q_{z}}\\ln p(X,Z|\\theta)d\\theta\n",
    "$$\n",
    "\n",
    "Finally:\n",
    "\n",
    "$$\n",
    "q_{\\theta}(\\theta) = \\dfrac{p(\\theta)\\exp(\\mathbb{E}_{q_{z}}\\ln p(X,Z|\\theta)}{\\int p(\\theta)\\exp(\\mathbb{E}_{q_{z}}\\ln p(X,Z|\\theta)d\\theta}\n",
    "$$"
   ]
  },
  {
   "cell_type": "markdown",
   "metadata": {},
   "source": [
    "By symmetry:"
   ]
  },
  {
   "cell_type": "markdown",
   "metadata": {},
   "source": [
    "$$\n",
    "q_{z}(Z) = \\dfrac{\\exp(\\mathbb{E}_{q_{\\theta}}\\ln p(X,Z|\\theta))}{\\int\\exp(\\mathbb{E}_{q_{\\theta}}\\ln p(X,Z|\\theta)dZ}$$"
   ]
  },
  {
   "cell_type": "markdown",
   "metadata": {},
   "source": [
    "And that's it!"
   ]
  }
 ],
 "metadata": {
  "anaconda-cloud": {},
  "kernelspec": {
   "display_name": "Python [Root]",
   "language": "python",
   "name": "Python [Root]"
  },
  "language_info": {
   "codemirror_mode": {
    "name": "ipython",
    "version": 2
   },
   "file_extension": ".py",
   "mimetype": "text/x-python",
   "name": "python",
   "nbconvert_exporter": "python",
   "pygments_lexer": "ipython2",
   "version": "2.7.12"
  }
 },
 "nbformat": 4,
 "nbformat_minor": 0
}
